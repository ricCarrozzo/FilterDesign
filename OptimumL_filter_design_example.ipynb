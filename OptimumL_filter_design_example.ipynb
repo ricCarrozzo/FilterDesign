{
 "cells": [
  {
   "cell_type": "code",
   "execution_count": 1,
   "id": "46625294",
   "metadata": {},
   "outputs": [],
   "source": [
    "# filter design example\n",
    "# - start from polynomial: poly = 1 + LOptimum where \"w^2\" -> \"-s^2\"\n",
    "# - find zeros --> poles\n",
    "# - select only zeros with +real part (poles will be on left S plane)\n",
    "# - form Hurwitz denominator\n",
    "# - form transfer function normalizing DC gain to give unitary response\n",
    "#\n",
    "# import environment\n",
    "from scipy import signal\n",
    "from numpy import polynomial as poly\n"
   ]
  },
  {
   "cell_type": "code",
   "execution_count": 4,
   "id": "6a7072cd",
   "metadata": {},
   "outputs": [
    {
     "name": "stdout",
     "output_type": "stream",
     "text": [
      "poly([ 1.  0. -1.  0. -3.  0. -3.])\n"
     ]
    }
   ],
   "source": [
    "#\n",
    "# 3rd order L-Optimum polynomial is w^2 - 3w^4 + 3w^6\n",
    "# hence 1 + (w^2 -> -s^2 polynomial) -->\n",
    "# 1 -S^2 -3s^4 -3s^6 --> coeffs [ 1, 0, -1, 0, -3, 0, -3]\n",
    "p = poly.Polynomial( [1, 0, -1, 0 , -3, 0, -3] )\n",
    "#\n",
    "print(p)"
   ]
  },
  {
   "cell_type": "code",
   "execution_count": 7,
   "id": "98cb9b6b",
   "metadata": {},
   "outputs": [
    {
     "name": "stdout",
     "output_type": "stream",
     "text": [
      "[-0.62033182+0.j         -0.34518562-0.90086564j -0.34518562+0.90086564j\n",
      "  0.34518562-0.90086564j  0.34518562+0.90086564j  0.62033182+0.j        ]\n",
      "[1.        +0.j 1.31070306+0.j 1.35897125+0.j 0.57735027+0.j]\n"
     ]
    }
   ],
   "source": [
    "#\n",
    "# find the zeros:\n",
    "poles = p.roots()\n",
    "#\n",
    "print( poles )\n",
    "#\n",
    "# pick roots with positive real part and form Hurwitz polynomial:\n",
    "p1 = poly.Polynomial( [ 1, poles[3] ] )\n",
    "p2 = poly.Polynomial( [ 1, poles[4] ] )\n",
    "p3 = poly.Polynomial( [ 1, poles[5] ] )\n",
    "#\n",
    "pFilt  = (p1 * p2 * p3)\n",
    "# coefficients\n",
    "coeffs = pFilt.coef\n",
    "#\n",
    "print( coeffs)\n"
   ]
  },
  {
   "cell_type": "code",
   "execution_count": 10,
   "id": "24d905bd",
   "metadata": {},
   "outputs": [
    {
     "name": "stdout",
     "output_type": "stream",
     "text": [
      "Numerator :  [6.75102554e-05 2.02530766e-04 2.02530766e-04 6.75102554e-05]\n",
      "Denominator :  [ 1.         -2.86427279  2.7420682  -0.87725532]\n"
     ]
    }
   ],
   "source": [
    "# define the transfer function in S\n",
    "# --> numerator is order 0 coefficient\n",
    "tfLopt3 = signal.lti( [ coeffs.real[3] ], coeffs.real )\n",
    "# apply Tustin bilinear transform and get the discrete-time equivalent \n",
    "lopt3tz = signal.bilinear( tfLopt3.num, tfLopt3.den, 10 )\n",
    "#\n",
    "# returning a tuple with [o] -> numerator and [1] denominator of transformed\n",
    "# discrete-time transfer function\n",
    "#\n",
    "print( 'Numerator : ',lopt3tz[0] )\n",
    "#\n",
    "print( 'Denominator : ',lopt3tz[1] )\n"
   ]
  },
  {
   "cell_type": "code",
   "execution_count": 17,
   "id": "fce0c5f3",
   "metadata": {},
   "outputs": [
    {
     "name": "stdout",
     "output_type": "stream",
     "text": [
      "Numerator :  [2.35595825e-06 9.42383301e-06 1.41357495e-05 9.42383301e-06\n",
      " 2.35595825e-06]\n",
      "Denominator :  [ 1.         -3.83738317  5.53135781 -3.54934432  0.85540738]\n"
     ]
    }
   ],
   "source": [
    "# \n",
    "# 4th order filter\n",
    "p4 = poly.Polynomial( [1, 0, 0, 0, 3, 0, 8, 0, 6] )\n",
    "poles4 = p4.roots()\n",
    "# pick up positive ones\n",
    "p4_1 = poly.Polynomial( [1, poles4[4] ] )\n",
    "p4_2 = poly.Polynomial( [1, poles4[5] ] )\n",
    "p4_3 = poly.Polynomial( [1, poles4[6] ] )\n",
    "p4_4 = poly.Polynomial( [1, poles4[7] ] )\n",
    "# form polynomial - 1 -> 2 -> 4\n",
    "p4_12 = p4_1 * p4_2\n",
    "p4_34 = p4_3 * p4_4\n",
    "p4_1234 = p4_12 * p4_34\n",
    "#\n",
    "p4_1234.coef\n",
    "# coefficients\n",
    "coeffs4 = p4_1234.coef.real\n",
    "#\n",
    "# transfer function\n",
    "tfLopt4 = signal.lti( [ coeffs4[4] ], coeffs4 )\n",
    "#\n",
    "lopt4tz = signal.bilinear( tfLopt4.num, tfLopt4.den, 10 )\n",
    "#\n",
    "#\n",
    "print( 'Numerator : ',lopt4tz[0] )\n",
    "#\n",
    "print( 'Denominator : ',lopt4tz[1] )\n"
   ]
  },
  {
   "cell_type": "code",
   "execution_count": 15,
   "id": "f3bb5bab",
   "metadata": {},
   "outputs": [
    {
     "data": {
      "text/plain": [
       "Text(0.5, 1.0, 'Optimum L - 4th order low-pass filter')"
      ]
     },
     "execution_count": 15,
     "metadata": {},
     "output_type": "execute_result"
    },
    {
     "data": {
      "image/png": "[encoded data removed]",
      "text/plain": [
       "<Figure size 432x288 with 1 Axes>"
      ]
     },
     "metadata": {
      "needs_background": "light"
     },
     "output_type": "display_data"
    }
   ],
   "source": [
    "#Bode plots\n",
    "import numpy as np\n",
    "import matplotlib.pyplot as plt\n",
    "#\n",
    "# form the filter, to get Bode plot\n",
    "filtz4 = signal.lti( *lopt4tz )\n",
    "wz4, hz4 = signal.freqz( filtz4.num, filtz4.den )\n",
    "# Bode\n",
    "plt.semilogx( wz4*10/(2 * np.pi), 20*np.log10(np.abs(hz4).clip(1e-15)) )\n",
    "plt.grid()\n",
    "plt.xlabel('frequency [Hz]')\n",
    "plt.ylabel('amplitude [Db]')\n",
    "plt.title('Optimum L - 4th order low-pass filter')\n",
    "\n"
   ]
  },
  {
   "cell_type": "code",
   "execution_count": 16,
   "id": "e3ddf337",
   "metadata": {},
   "outputs": [
    {
     "data": {
      "text/plain": [
       "Text(0.5, 1.0, 'Optimum L - 3rd order low-pass filter')"
      ]
     },
     "execution_count": 16,
     "metadata": {},
     "output_type": "execute_result"
    },
    {
     "data": {
      "image/png": "[encoded data removed]",
      "text/plain": [
       "<Figure size 432x288 with 1 Axes>"
      ]
     },
     "metadata": {
      "needs_background": "light"
     },
     "output_type": "display_data"
    }
   ],
   "source": [
    "#\n",
    "# do the same with 3rd order\n",
    "filtz3 = signal.lti( *lopt3tz )\n",
    "wz3, hz3 = signal.freqz( filtz3.num, filtz3.den )\n",
    "plt.semilogx( wz3*10/(2 * np.pi), 20*np.log10(np.abs(hz3).clip(1e-15)) )\n",
    "plt.grid()\n",
    "plt.xlabel('frequency [Hz]')\n",
    "plt.ylabel('amplitude [Db]')\n",
    "plt.title('Optimum L - 3rd order low-pass filter')\n"
   ]
  },
  {
   "cell_type": "code",
   "execution_count": null,
   "id": "0d8dd7ab",
   "metadata": {},
   "outputs": [],
   "source": []
  }
 ],
 "metadata": {
  "kernelspec": {
   "display_name": "Python 3",
   "language": "python",
   "name": "python3"
  },
  "language_info": {
   "codemirror_mode": {
    "name": "ipython",
    "version": 3
   },
   "file_extension": ".py",
   "mimetype": "text/x-python",
   "name": "python",
   "nbconvert_exporter": "python",
   "pygments_lexer": "ipython3",
   "version": "3.7.16"
  }
 },
 "nbformat": 4,
 "nbformat_minor": 5
}
